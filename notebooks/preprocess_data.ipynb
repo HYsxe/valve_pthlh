{
 "cells": [
  {
   "cell_type": "code",
   "execution_count": 2,
   "id": "1cf6fe37",
   "metadata": {},
   "outputs": [],
   "source": [
    "import os\n",
    "import numpy as np\n",
    "import pandas as pd\n",
    "import matplotlib.pyplot as plt\n",
    "import seaborn as sns\n",
    "import scanpy as sc\n",
    "import anndata as ad"
   ]
  },
  {
   "cell_type": "code",
   "execution_count": 3,
   "id": "e2d611ce",
   "metadata": {},
   "outputs": [],
   "source": [
    "data_dir = \"/large_storage/zhoulab/yanhu/valve_pthlh/data/Valve_PthlhProject_GEO_2025/processed\"\n",
    "results_dir = \"/large_storage/zhoulab/yanhu/valve_pthlh/results\""
   ]
  },
  {
   "cell_type": "code",
   "execution_count": 36,
   "id": "e6fc597c",
   "metadata": {},
   "outputs": [
    {
     "name": "stderr",
     "output_type": "stream",
     "text": [
      "/home/yanhu/.local/share/mamba/envs/valve_pthlh/lib/python3.11/site-packages/anndata/_core/anndata.py:1794: UserWarning: Variable names are not unique. To make them unique, call `.var_names_make_unique`.\n",
      "  utils.warn_names_duplicates(\"var\")\n",
      "/home/yanhu/.local/share/mamba/envs/valve_pthlh/lib/python3.11/site-packages/anndata/_core/anndata.py:1794: UserWarning: Variable names are not unique. To make them unique, call `.var_names_make_unique`.\n",
      "  utils.warn_names_duplicates(\"var\")\n",
      "/home/yanhu/.local/share/mamba/envs/valve_pthlh/lib/python3.11/site-packages/anndata/_core/anndata.py:1794: UserWarning: Variable names are not unique. To make them unique, call `.var_names_make_unique`.\n",
      "  utils.warn_names_duplicates(\"var\")\n"
     ]
    },
    {
     "name": "stdout",
     "output_type": "stream",
     "text": [
      "Loaded HLHS samples: ['HLHS_3_PV', 'HLHS_2_MV', 'HLHS_1_AoV', 'HLHS_4_TV']\n"
     ]
    },
    {
     "name": "stderr",
     "output_type": "stream",
     "text": [
      "/home/yanhu/.local/share/mamba/envs/valve_pthlh/lib/python3.11/site-packages/anndata/_core/anndata.py:1794: UserWarning: Variable names are not unique. To make them unique, call `.var_names_make_unique`.\n",
      "  utils.warn_names_duplicates(\"var\")\n"
     ]
    }
   ],
   "source": [
    "# Get HLHS sample files\n",
    "hlhs_files = [f for f in os.listdir(data_dir) if f.startswith('HLHS_')]\n",
    "\n",
    "# Group files by sample\n",
    "hlhs_samples = {}\n",
    "for f in hlhs_files:\n",
    "    # Parse sample info from filename\n",
    "    parts = f.split('_')\n",
    "    sample_id = f'{parts[0]}_{parts[1]}_{parts[2]}'\n",
    "    file_type = parts[3].split('.')[0]\n",
    "    \n",
    "    if sample_id not in hlhs_samples:\n",
    "        hlhs_samples[sample_id] = {}\n",
    "    hlhs_samples[sample_id][file_type] = os.path.join(data_dir, f)\n",
    "\n",
    "# Load data for each sample into AnnData objects\n",
    "hlhs_data = {}\n",
    "for sample_id, files in hlhs_samples.items():\n",
    "    # Read the matrix, features and barcodes\n",
    "    mtx = sc.read_mtx(files['matrix'])\n",
    "    features = pd.read_csv(files['features'], sep='\\t', header=None)\n",
    "    barcodes = pd.read_csv(files['barcodes'], sep='\\t', header=None)\n",
    "    \n",
    "    # Create AnnData object\n",
    "    adata = ad.AnnData(X=mtx.X.T,  # Transpose matrix to match features x cells\n",
    "                      var=pd.DataFrame(index=features[1]),  # Use gene names as features\n",
    "                      obs=pd.DataFrame(index=barcodes[0]))  # Use barcodes as observations\n",
    "    adata.var['gene_names'] = features[1].values\n",
    "    \n",
    "    # Add sample ID as annotation\n",
    "    adata.obs['sample'] = sample_id\n",
    "    \n",
    "    hlhs_data[sample_id] = adata\n",
    "\n",
    "print(\"Loaded HLHS samples:\", list(hlhs_data.keys()))\n"
   ]
  },
  {
   "cell_type": "code",
   "execution_count": 38,
   "id": "cb6f2a95",
   "metadata": {},
   "outputs": [
    {
     "data": {
      "text/html": [
       "<div>\n",
       "<style scoped>\n",
       "    .dataframe tbody tr th:only-of-type {\n",
       "        vertical-align: middle;\n",
       "    }\n",
       "\n",
       "    .dataframe tbody tr th {\n",
       "        vertical-align: top;\n",
       "    }\n",
       "\n",
       "    .dataframe thead th {\n",
       "        text-align: right;\n",
       "    }\n",
       "</style>\n",
       "<table border=\"1\" class=\"dataframe\">\n",
       "  <thead>\n",
       "    <tr style=\"text-align: right;\">\n",
       "      <th></th>\n",
       "      <th>gene_names</th>\n",
       "    </tr>\n",
       "    <tr>\n",
       "      <th>1</th>\n",
       "      <th></th>\n",
       "    </tr>\n",
       "  </thead>\n",
       "  <tbody>\n",
       "    <tr>\n",
       "      <th>MIR1302-2HG</th>\n",
       "      <td>MIR1302-2HG</td>\n",
       "    </tr>\n",
       "    <tr>\n",
       "      <th>FAM138A</th>\n",
       "      <td>FAM138A</td>\n",
       "    </tr>\n",
       "    <tr>\n",
       "      <th>OR4F5</th>\n",
       "      <td>OR4F5</td>\n",
       "    </tr>\n",
       "    <tr>\n",
       "      <th>AL627309.1</th>\n",
       "      <td>AL627309.1</td>\n",
       "    </tr>\n",
       "    <tr>\n",
       "      <th>AL627309.3</th>\n",
       "      <td>AL627309.3</td>\n",
       "    </tr>\n",
       "    <tr>\n",
       "      <th>...</th>\n",
       "      <td>...</td>\n",
       "    </tr>\n",
       "    <tr>\n",
       "      <th>AC141272.1</th>\n",
       "      <td>AC141272.1</td>\n",
       "    </tr>\n",
       "    <tr>\n",
       "      <th>AC023491.2</th>\n",
       "      <td>AC023491.2</td>\n",
       "    </tr>\n",
       "    <tr>\n",
       "      <th>AC007325.1</th>\n",
       "      <td>AC007325.1</td>\n",
       "    </tr>\n",
       "    <tr>\n",
       "      <th>AC007325.4</th>\n",
       "      <td>AC007325.4</td>\n",
       "    </tr>\n",
       "    <tr>\n",
       "      <th>AC007325.2</th>\n",
       "      <td>AC007325.2</td>\n",
       "    </tr>\n",
       "  </tbody>\n",
       "</table>\n",
       "<p>36601 rows × 1 columns</p>\n",
       "</div>"
      ],
      "text/plain": [
       "              gene_names\n",
       "1                       \n",
       "MIR1302-2HG  MIR1302-2HG\n",
       "FAM138A          FAM138A\n",
       "OR4F5              OR4F5\n",
       "AL627309.1    AL627309.1\n",
       "AL627309.3    AL627309.3\n",
       "...                  ...\n",
       "AC141272.1    AC141272.1\n",
       "AC023491.2    AC023491.2\n",
       "AC007325.1    AC007325.1\n",
       "AC007325.4    AC007325.4\n",
       "AC007325.2    AC007325.2\n",
       "\n",
       "[36601 rows x 1 columns]"
      ]
     },
     "execution_count": 38,
     "metadata": {},
     "output_type": "execute_result"
    }
   ],
   "source": [
    "hlhs_data[sample_id].var"
   ]
  },
  {
   "cell_type": "code",
   "execution_count": 27,
   "id": "fa82901f",
   "metadata": {},
   "outputs": [
    {
     "data": {
      "text/plain": [
       "(36601, 8293)"
      ]
     },
     "execution_count": 27,
     "metadata": {},
     "output_type": "execute_result"
    }
   ],
   "source": [
    "mtx.shape"
   ]
  },
  {
   "cell_type": "code",
   "execution_count": 33,
   "id": "f609309c",
   "metadata": {},
   "outputs": [],
   "source": [
    "adata = hlhs_data[sample_id]"
   ]
  },
  {
   "cell_type": "code",
   "execution_count": 35,
   "id": "b97b1b0b",
   "metadata": {},
   "outputs": [],
   "source": [
    "adata.var_names = adata.var['gene_names']"
   ]
  },
  {
   "cell_type": "code",
   "execution_count": 31,
   "id": "672bac4a",
   "metadata": {},
   "outputs": [
    {
     "data": {
      "text/plain": [
       "0        MIR1302-2HG\n",
       "1            FAM138A\n",
       "2              OR4F5\n",
       "3         AL627309.1\n",
       "4         AL627309.3\n",
       "            ...     \n",
       "36596     AC141272.1\n",
       "36597     AC023491.2\n",
       "36598     AC007325.1\n",
       "36599     AC007325.4\n",
       "36600     AC007325.2\n",
       "Name: 1, Length: 36601, dtype: object"
      ]
     },
     "execution_count": 31,
     "metadata": {},
     "output_type": "execute_result"
    }
   ],
   "source": [
    "features[1]"
   ]
  },
  {
   "cell_type": "code",
   "execution_count": null,
   "id": "8eb77bb1",
   "metadata": {},
   "outputs": [],
   "source": []
  }
 ],
 "metadata": {
  "kernelspec": {
   "display_name": "Python 3",
   "language": "python",
   "name": "python3"
  },
  "language_info": {
   "codemirror_mode": {
    "name": "ipython",
    "version": 3
   },
   "file_extension": ".py",
   "mimetype": "text/x-python",
   "name": "python",
   "nbconvert_exporter": "python",
   "pygments_lexer": "ipython3",
   "version": "3.14.0"
  }
 },
 "nbformat": 4,
 "nbformat_minor": 5
}
